{
 "cells": [
  {
   "cell_type": "markdown",
   "metadata": {},
   "source": [
    "## The matrix derivative of scalar function"
   ]
  },
  {
   "cell_type": "markdown",
   "metadata": {},
   "source": [
    "<big><big>For scalar function $L$ and matrix $X$ with size of $n \\times m$"
   ]
  },
  {
   "cell_type": "markdown",
   "metadata": {},
   "source": [
    "<big>If $X$ equates to $\\left(\\begin{array}{ccc}X_{11} & \\cdots & X_{1 m} \\\\ \\vdots & \\ddots & \\vdots \\\\ X_{n 1} & \\cdots & X_{n m}\\end{array}\\right)$"
   ]
  },
  {
   "cell_type": "markdown",
   "metadata": {},
   "source": [
    "<big>Then $\\frac{\\partial L}{\\partial X}$ is denoted by:"
   ]
  },
  {
   "cell_type": "markdown",
   "metadata": {},
   "source": [
    "<big>$\\frac{\\partial L}{\\partial X}=\\left(\\begin{array}{ccc}\\frac{\\partial L}{\\partial X_{11}} & \\cdots & \\frac{\\partial L}{\\partial X_{1 m}} \\\\ \\vdots & \\ddots & \\vdots \\\\ \\frac{\\partial L}{\\partial X_{n 1}} & \\cdots & \\frac{\\partial L}{\\partial X_{n m}}\\end{array}\\right)$"
   ]
  },
  {
   "cell_type": "markdown",
   "metadata": {},
   "source": [
    "### Trace trick"
   ]
  },
  {
   "cell_type": "markdown",
   "metadata": {},
   "source": [
    "<big>Trace of scalar: $L=\\operatorname{tr}(L)$"
   ]
  },
  {
   "cell_type": "markdown",
   "metadata": {},
   "source": [
    "<big>Transpose: $\\operatorname{tr}\\left(A^T\\right)=\\operatorname{tr}(A)$"
   ]
  },
  {
   "cell_type": "markdown",
   "metadata": {},
   "source": [
    "<big>Linearity: $\\operatorname{tr}(A \\pm B)=\\operatorname{tr}(A) \\pm \\operatorname{tr}(B)$"
   ]
  },
  {
   "cell_type": "markdown",
   "metadata": {},
   "source": [
    "<big>Commutative law of matrix multiplication: $\\operatorname{tr}(A B)=\\operatorname{tr}(B A)$ tips: The shape of $A$ and $B^T$ must be the same. And that alway work when output of $AB$ is a scalar."
   ]
  },
  {
   "cell_type": "markdown",
   "metadata": {},
   "source": [
    "<big>Commutative law of Element-wise matrix multiplication：$\\operatorname{tr}\\left(A^T(B * C)\\right)=\\operatorname{tr}\\left((A * B)^T C\\right)$"
   ]
  },
  {
   "cell_type": "markdown",
   "metadata": {},
   "source": [
    "### Law of Matrix Derivatives"
   ]
  },
  {
   "cell_type": "markdown",
   "metadata": {},
   "source": [
    "<big>Linearity: $d(X \\pm Y)=d X \\pm d Y$"
   ]
  },
  {
   "cell_type": "markdown",
   "metadata": {},
   "source": [
    "<big>Matrix Multiplication: $d(X Y)=X d Y+d X Y$ "
   ]
  },
  {
   "cell_type": "markdown",
   "metadata": {},
   "source": [
    "<big>Trace: $d(\\operatorname{tr}(X))=\\operatorname{tr}(d X)$"
   ]
  },
  {
   "cell_type": "markdown",
   "metadata": {},
   "source": [
    "<big>Element-wise Multiplication: $d(X * Y)=d X * Y+X * d Y$"
   ]
  },
  {
   "cell_type": "markdown",
   "metadata": {},
   "source": [
    "<big>Element-wise Function: $d f(X)=\\left[\\left.\\frac{d f(x)}{d x}\\right|_{x=X_{i j}}\\right] * d X(f(x)$"
   ]
  },
  {
   "cell_type": "markdown",
   "metadata": {},
   "source": [
    " <big> (Example: Assume $f(x)=x^2$, $X=\\left(\\begin{array}{ll}X_{11} & X_{12} \\\\ X_{21} & X_{22}\\end{array}\\right)$, then $f(X)=\\left(\\begin{array}{ll}f\\left(X_{11}\\right) & f\\left(X_{12}\\right) \\\\ f\\left(X_{21}\\right) & f\\left(X_{22}\\right)\\end{array}\\right)$    \n",
    "    and $d f(X)=\\left(\\begin{array}{ll}f^{\\prime}\\left(X_{11}\\right) d X_{11} & f^{\\prime}\\left(X_{12}\\right) d X_{12} \\\\ f^{\\prime}\\left(X_{21}\\right) d X_{21} & f^{\\prime}\\left(X_{22}\\right) d X_{22}\\end{array}\\right)=f^{\\prime}(X) * d X$ )"
   ]
  },
  {
   "cell_type": "markdown",
   "metadata": {},
   "source": [
    "<big> *The connection between matrix derivatives and differentials: \n",
    "$d f=\\sum_{j=1}^m \\sum_{i=1}^n \\frac{\\partial f}{\\partial X_{i j}} d X_{i j}$\n",
    "$\\Rightarrow d f=\\operatorname{tr}\\left(\\frac{\\partial f}{\\partial X}^T d X\\right)$  "
   ]
  },
  {
   "cell_type": "markdown",
   "metadata": {},
   "source": [
    "<big>(Because we have $\\sum_{i, j} A_{i j} B_{i j}=\\operatorname{tr}\\left(A^T B\\right)$ for $A,B$ of same size)"
   ]
  },
  {
   "cell_type": "markdown",
   "metadata": {},
   "source": [
    "<big>**From the relationship between matrix derivatives and differentials, we can use the relationship between variables to easily bypass the cumbersome chain rule and solve the gradient given by the backpropagation formula.**"
   ]
  },
  {
   "cell_type": "markdown",
   "metadata": {},
   "source": [
    "### Example"
   ]
  },
  {
   "cell_type": "markdown",
   "metadata": {},
   "source": [
    "<big> In single layer neuron network, the loss is $L$, weighted value is $Z=W X+b$, and activation value is $A=f(Z)$.   \n",
    "    The $\\frac{\\partial L}{\\partial A}$ is given to solve $\\frac{\\partial L}{\\partial W}$ :   \n",
    "    $d L=\\operatorname{tr}\\left(\\frac{\\partial L}{\\partial A}^T d A\\right)$  (The connection between matrix derivatives and differentials)   \n",
    "    $=\\operatorname{tr}\\left(\\frac{\\partial L^T}{\\partial A}\\left(f^{\\prime}(Z) * d Z\\right)\\right)$（Hadamard product）   \n",
    "    $=\\operatorname{tr}\\left(\\left(\\frac{\\partial L}{\\partial A} * f^{\\prime}(Z)\\right)^T d Z\\right)$ (Commutative law of Element-wise matrix multiplication)   \n",
    "    $=\\operatorname{tr}\\left(\\left(\\frac{\\partial L}{\\partial A} * f^{\\prime}(Z)\\right)^T d(W X+b)\\right)$   \n",
    "    $=\\operatorname{tr}\\left(\\left(\\frac{\\partial L}{\\partial A} * f^{\\prime}(Z)\\right)^T(d W X+W d X+d b)\\right)$ (Derivatives of Matrix Multiplication)      \n",
    "    $=\\operatorname{tr}\\left(\\left(\\frac{\\partial L}{\\partial A} * f^{\\prime}(Z)\\right)^T d W X\\right)$ （Take partial derivatives of $W$, other variables are deemed as constants.)   \n",
    "    $=\\operatorname{tr}\\left(X\\left(\\frac{\\partial L}{\\partial A} * f^{\\prime}(Z)\\right)^T d W\\right)$    \n",
    "    $=\\operatorname{tr}\\left(\\left(\\left(\\frac{\\partial L}{\\partial A} * f^{\\prime}(Z)\\right) X^T\\right)^T d W\\right)$  (Commutative law of matrix multiplicatio)   \n",
    "    For $W$, $d L=\\operatorname{tr}\\left(\\frac{\\partial L}{\\partial W}^T d W\\right)$, so $\\frac{\\partial L}{\\partial W}=\\left(\\frac{\\partial L}{\\partial A} * f^{\\prime}(Z)\\right) X^T$\n",
    "    \n",
    "    "
   ]
  }
 ],
 "metadata": {
  "kernelspec": {
   "display_name": "Python 3",
   "language": "python",
   "name": "python3"
  },
  "language_info": {
   "codemirror_mode": {
    "name": "ipython",
    "version": 3
   },
   "file_extension": ".py",
   "mimetype": "text/x-python",
   "name": "python",
   "nbconvert_exporter": "python",
   "pygments_lexer": "ipython3",
   "version": "3.8.3"
  },
  "toc": {
   "base_numbering": 1,
   "nav_menu": {},
   "number_sections": true,
   "sideBar": true,
   "skip_h1_title": false,
   "title_cell": "Table of Contents",
   "title_sidebar": "Contents",
   "toc_cell": false,
   "toc_position": {},
   "toc_section_display": true,
   "toc_window_display": false
  }
 },
 "nbformat": 4,
 "nbformat_minor": 4
}
